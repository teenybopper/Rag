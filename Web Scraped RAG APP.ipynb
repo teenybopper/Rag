{
 "cells": [
  {
   "cell_type": "markdown",
   "metadata": {},
   "source": [
    "FETCHING TOGETHER API"
   ]
  },
  {
   "cell_type": "code",
   "execution_count": 3,
   "metadata": {},
   "outputs": [],
   "source": [
    "\n",
    "import getpass\n",
    "import os\n",
    "from together import Together\n",
    "\n",
    "os.environ[\"TOGETHER_API_KEY\"] = getpass.getpass(\"Enter the api key:\")\n",
    "\n",
    "together_api_key = os.getenv('TOGETHER_API_KEY')\n",
    "\n",
    "if not together_api_key:\n",
    "    raise ValueError(\"API key is not set.\")\n",
    "\n",
    "client = Together(api_key = together_api_key)\n",
    "\n",
    "\n"
   ]
  },
  {
   "cell_type": "code",
   "execution_count": 6,
   "metadata": {},
   "outputs": [
    {
     "data": {
      "text/plain": [
       "ChatCompletionResponse(id='8982cf342f1fa70b-DEL', object=<ObjectType.ChatCompletion: 'chat.completion'>, created=1719128214, model='meta-llama/Llama-3-8b-chat-hf', choices=[ChatCompletionChoicesData(index=0, logprobs=None, finish_reason=<FinishReason.StopSequence: 'stop'>, message=ChatCompletionMessage(role=<MessageRole.ASSISTANT: 'assistant'>, content=\"The city that never sleeps! New York City is a vibrant and exciting place to visit, with endless options for entertainment, culture, and adventure. Here are some fun things to do in New York:\\n\\n**Iconic Landmarks and Attractions**\\n\\n1. Visit the Statue of Liberty and Ellis Island: Take a ferry to Liberty Island to see the iconic statue up close and visit the Ellis Island Immigration Museum.\\n2. Explore the Empire State Building: Enjoy panoramic views of the city from the observation deck on the 86th floor.\\n3. Walk across the Brooklyn Bridge: Take in the stunning views of the Manhattan skyline and the East River.\\n4. Visit the 9/11 Memorial & Museum: A poignant tribute to the victims of the 9/11 attacks.\\n5. See a Broadway Show: Catch a performance of a hit musical or play on Broadway.\\n\\n**Museums and Galleries**\\n\\n1. The Metropolitan Museum of Art: One of the world's largest and most famous museums, with a vast collection of art and artifacts.\\n2. The Museum of Modern Art (MoMA): A must-visit for modern art enthusiasts, with works by Warhol, Picasso, and more.\\n3. The American Museum of Natural History: Explore the wonders of the natural world, from dinosaurs to space exploration.\\n4. The Guggenheim Museum: Designed by Frank Lloyd Wright, this museum features an impressive collection of modern and contemporary art.\\n5. The Whitney Museum of American Art: Focuses on American art from the 20th and 21st centuries.\\n\\n**Parks and Outdoor Spaces**\\n\\n1. Central Park: A tranquil oasis in the middle of Manhattan, with walking paths, lakes, and plenty of green space.\\n2. Prospect Park: A beautiful park in Brooklyn with a lake, walking trails, and plenty of picnic spots.\\n3. The High Line: An elevated park built on an old rail line, with great views of the Hudson River.\\n4. Brooklyn Bridge Park: A waterfront park with great views of the Manhattan skyline and the Brooklyn Bridge.\\n5. The Bronx Zoo: The largest metropolitan zoo in the United States, with over 6,000 animals from around the world.\\n\\n**Food and Drink**\\n\\n1. Try a classic New York-style pizza: Visit Lombardi's, Joe's Pizza, or Patsy's Pizzeria for a slice of heaven.\\n2. Explore Chinatown and Little Italy: Sample the flavors of Asia and Italy in these vibrant neighborhoods.\\n3. Visit a classic diner: Try a classic American breakfast or burger at a diner like Sarabeth's or Ellen's Stardust Diner.\\n4. Take a food tour: Sample the best of New York's culinary scene on a guided tour.\\n5. Visit a rooftop bar: Enjoy stunning views of the city while sipping a cocktail at a rooftop bar like 230 Fifth or the Top of the Strand.\\n\\n**Neighborhoods to Explore**\\n\\n1. SoHo: Known for its trendy boutiques, art galleries, and cast-iron buildings.\\n2. Greenwich Village: A charming neighborhood with historic brownstones, charming streets, and plenty of restaurants and bars.\\n3. Williamsburg: A hip neighborhood in Brooklyn with a thriving arts scene, indie music venues, and trendy restaurants.\\n4. Harlem: A historic neighborhood with a rich African-American culture, known for its jazz clubs, soul food restaurants, and the Apollo Theater.\\n5. Chinatown and Little Italy: Explore the vibrant streets of these two neighborhoods, filled with colorful markets, street food, and cultural attractions.\\n\\nThese are just a few of the many fun things to do in New York City. With so much to see and do, you're sure to have an unforgettable experience in the city that never sleeps!\", tool_calls=None), seed=7551491020331768016)], prompt=[], usage=UsageData(prompt_tokens=20, completion_tokens=758, total_tokens=778))"
      ]
     },
     "execution_count": 6,
     "metadata": {},
     "output_type": "execute_result"
    }
   ],
   "source": [
    "client.chat.completions.create(\n",
    "    model=\"meta-llama/Llama-3-8b-chat-hf\",\n",
    "    messages=[{\"role\": \"user\", \"content\": \"What are some fun things to do in New York\"}],\n",
    ")"
   ]
  },
  {
   "cell_type": "markdown",
   "metadata": {},
   "source": [
    "LOADING\n"
   ]
  },
  {
   "cell_type": "code",
   "execution_count": 4,
   "metadata": {},
   "outputs": [
    {
     "name": "stdout",
     "output_type": "stream",
     "text": [
      "content length: 29295\n",
      "\n",
      "\n",
      "      Prompt Engineering\n",
      "    \n",
      "Date: March 15, 2023  |  Estimated Reading Time: 21 min  |  Author: Lilian Weng\n",
      "\n",
      "\n",
      "Prompt Engineering, also known as In-Context Prompting, refers to methods for how to communicate with LLM to steer its behavior for desired outcomes without updating the model weights. It is an empirical science and the effect of prompt engineering methods can vary a lot among models, thus requiring heavy experimentation and heuristics.\n",
      "This post only focuses on prompt engineering fo\n"
     ]
    }
   ],
   "source": [
    "import requests\n",
    "from bs4 import BeautifulSoup, SoupStrainer\n",
    "\n",
    "url = \"https://lilianweng.github.io/posts/2023-03-15-prompt-engineering/\"\n",
    "\n",
    "#it will look like request is coming from a browser\n",
    "headers = {\n",
    "    \"User-Agent\": \"Mozilla/5.0 (Windows NT 10.0; Win64; x64) AppleWebKit/537.36 (KHTML, like Gecko) Chrome/91.0.4472.124 Safari/537.36\"\n",
    "}\n",
    "\n",
    "response = requests.get(url, headers=headers)\n",
    "\n",
    "if response.status_code==200:\n",
    "    strainer = SoupStrainer(class_=(\"post-title\", \"post-header\", \"post-content\"))\n",
    "    \n",
    "    soup = BeautifulSoup(response.content, \"html.parser\", parse_only=strainer)\n",
    "    \n",
    "    content = soup.get_text()\n",
    "    content_length = len(content)\n",
    "    \n",
    "    print(f\"content length: {content_length}\")\n",
    "    \n",
    "    print(content[:500])\n",
    "    \n",
    "else:\n",
    "    print(f\"status_code:{response.status_code}\")\n",
    "\n",
    "\n",
    "\n"
   ]
  },
  {
   "cell_type": "markdown",
   "metadata": {},
   "source": [
    "SPLITTING"
   ]
  },
  {
   "cell_type": "code",
   "execution_count": 5,
   "metadata": {},
   "outputs": [
    {
     "name": "stdout",
     "output_type": "stream",
     "text": [
      "number of chunks:96\n"
     ]
    }
   ],
   "source": [
    "def text_split(text, chunk_size = 500, chunk_overlapping = 200):\n",
    "    start = 0\n",
    "    chunks = []\n",
    "    end = chunk_size\n",
    "    while end <= len(text):\n",
    "        chunk = text[start:end]\n",
    "        chunks.append(chunk)\n",
    "        start += chunk_size - chunk_overlapping\n",
    "        end = start + chunk_size    \n",
    "    return chunks \n",
    "\n",
    "chunks = text_split(content)\n",
    "\n",
    "print(f\"number of chunks:{len(chunks)}\")\n"
   ]
  },
  {
   "cell_type": "markdown",
   "metadata": {},
   "source": [
    "EMBED & STORE"
   ]
  },
  {
   "cell_type": "code",
   "execution_count": 6,
   "metadata": {},
   "outputs": [
    {
     "name": "stderr",
     "output_type": "stream",
     "text": [
      "e:\\LLMs\\cuda\\Lib\\site-packages\\transformers\\models\\bert\\modeling_bert.py:435: UserWarning: 1Torch was not compiled with flash attention. (Triggered internally at ..\\aten\\src\\ATen\\native\\transformers\\cuda\\sdp_utils.cpp:455.)\n",
      "  attn_output = torch.nn.functional.scaled_dot_product_attention(\n"
     ]
    }
   ],
   "source": [
    "from sentence_transformers import SentenceTransformer\n",
    "\n",
    "model = SentenceTransformer('all-MiniLM-L6-v2')\n",
    "embeddings = model.encode(chunks)\n",
    "\n",
    "import faiss\n",
    "import numpy as np \n",
    "\n",
    "dimension = embeddings.shape[1]\n",
    "index = faiss.IndexFlatL2(dimension)\n",
    "index.add(embeddings)"
   ]
  },
  {
   "cell_type": "code",
   "execution_count": 16,
   "metadata": {},
   "outputs": [
    {
     "data": {
      "text/plain": [
       "ChatCompletionResponse(id='89ab3b5cbe85a737-DEL', object=<ObjectType.ChatCompletion: 'chat.completion'>, created=1719552072, model='meta-llama/Llama-3-8b-chat-hf', choices=[ChatCompletionChoicesData(index=0, logprobs=None, finish_reason=<FinishReason.StopSequence: 'stop'>, message=ChatCompletionMessage(role=<MessageRole.ASSISTANT: 'assistant'>, content='A cot is a type of bed or sleeping platform that is typically designed for infants or young children. Here are some key points about cots:\\n\\n**Definition:** A cot is a small, low-to-the-ground bed designed for infants or young children, usually up to the age of 3-4 years.\\n\\n**Design:** Cots are typically rectangular in shape, with a flat surface and a low height (around 30-40 cm or 12-16 inches). They often have a sturdy frame and a soft, padded mattress.\\n\\n**Features:** Cots may include features such as:\\n\\n* A removable, washable mattress cover\\n* A canopy or mosquito net to keep insects out\\n* Storage baskets or shelves for toys and essentials\\n* A mobile or toy attachment for entertainment\\n\\n**Types:** There are several types of cots, including:\\n\\n* Standard cots: Basic, rectangular cots with a flat surface\\n* Convertible cots: Can be converted into a toddler bed or a daybed\\n* Travel cots: Lightweight, portable cots designed for travel or outdoor use\\n* Bassinet cots: Smaller, more compact cots designed for newborns\\n\\n**Benefits:** Cots provide a safe and comfortable sleeping environment for young children, helping to promote healthy sleep habits and reduce the risk of SIDS (Sudden Infant Death Syndrome). They also offer a convenient and portable way to create a sleeping space for your child, whether at home or on the go.', tool_calls=None), seed=6920537760179948758)], prompt=[], usage=UsageData(prompt_tokens=15, completion_tokens=301, total_tokens=316))"
      ]
     },
     "execution_count": 16,
     "metadata": {},
     "output_type": "execute_result"
    }
   ],
   "source": [
    "client.chat.completions.create(\n",
    "    model=\"meta-llama/Llama-3-8b-chat-hf\",\n",
    "    messages=[{\"role\": \"user\", \"content\": \"brief me abbout cot\"}],\n",
    ")"
   ]
  },
  {
   "cell_type": "markdown",
   "metadata": {},
   "source": [
    "RETRIEVE"
   ]
  },
  {
   "cell_type": "code",
   "execution_count": 8,
   "metadata": {},
   "outputs": [],
   "source": [
    "#query = \"Explain Few-shot prompting\"\n",
    "query = \"Brief me about cot\"\n",
    "query_embd = model.encode([query])\n",
    "\n",
    "k = 1\n",
    "distances, indices = index.search(query_embd, k)\n",
    "results = [chunks[i] for i in indices[0]]\n"
   ]
  },
  {
   "cell_type": "code",
   "execution_count": 9,
   "metadata": {},
   "outputs": [
    {
     "name": "stdout",
     "output_type": "stream",
     "text": [
      "inal answer. The benefit of CoT is more pronounced for complicated reasoning tasks, while using large models (e.g. with more than 50B parameters). Simple tasks only benefit slightly from CoT prompting.\n",
      "Types of CoT prompts#\n",
      "Two main types of CoT prompting:\n",
      "\n",
      "Few-shot CoT. It is to prompt the model with a few demonstrations, each containing manually written (or model-generated) high-quality reasoning chains.\n",
      "\n",
      "(All the math reasoning examples are from GSM8k)\n",
      "Question: Tom and Elizabeth have a compe\n",
      "\n",
      "---\n",
      "\n"
     ]
    }
   ],
   "source": [
    "#print([results])\n",
    "\n",
    "for result in results:\n",
    "    print(result)\n",
    "    print(\"\\n---\\n\")"
   ]
  }
 ],
 "metadata": {
  "kernelspec": {
   "display_name": "cuda",
   "language": "python",
   "name": "python3"
  },
  "language_info": {
   "codemirror_mode": {
    "name": "ipython",
    "version": 3
   },
   "file_extension": ".py",
   "mimetype": "text/x-python",
   "name": "python",
   "nbconvert_exporter": "python",
   "pygments_lexer": "ipython3",
   "version": "3.10.12"
  }
 },
 "nbformat": 4,
 "nbformat_minor": 2
}
